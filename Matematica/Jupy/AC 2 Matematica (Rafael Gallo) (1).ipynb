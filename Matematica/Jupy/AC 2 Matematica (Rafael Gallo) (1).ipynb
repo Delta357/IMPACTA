{
 "cells": [
  {
   "cell_type": "markdown",
   "metadata": {},
   "source": [
    "# AC 2 Matematica"
   ]
  },
  {
   "cell_type": "markdown",
   "metadata": {},
   "source": [
    "Nome: Rafael Henrique Gallo\n",
    "RA: *******"
   ]
  },
  {
   "cell_type": "markdown",
   "metadata": {},
   "source": [
    "# Exercício - 1"
   ]
  },
  {
   "cell_type": "code",
   "execution_count": null,
   "metadata": {},
   "outputs": [],
   "source": [
    "import numpy as np\n",
    "\n",
    "%matplotlib inline\n",
    "import matplotlib.pyplot as plt"
   ]
  },
  {
   "cell_type": "markdown",
   "metadata": {},
   "source": [
    "A) F(X) y = x"
   ]
  },
  {
   "cell_type": "code",
   "execution_count": null,
   "metadata": {},
   "outputs": [],
   "source": [
    "def f(x): return x\n",
    "x = np.linspace(-6,6)\n",
    "\n",
    "plt.plot(x, f(x))\n",
    "plt.plot(x, f(x), color=\"black\")\n",
    "\n",
    "plt.title(\"Função F(X)= x\")\n",
    "plt.xlabel(\"Eixo x\")\n",
    "plt.ylabel(\"Eixo y\")\n",
    "plt.grid()\n",
    "plt.show()"
   ]
  },
  {
   "cell_type": "markdown",
   "metadata": {},
   "source": [
    "B) y = -x"
   ]
  },
  {
   "cell_type": "code",
   "execution_count": null,
   "metadata": {},
   "outputs": [],
   "source": [
    "def f(x): return -x\n",
    "x = np.linspace(-6,6)\n",
    "\n",
    "plt.plot(x, f(x))\n",
    "plt.plot(x, f(x), color=\"black\")\n",
    "\n",
    "plt.title(\"Função F(X)= -x\")\n",
    "plt.xlabel(\"Eixo x\")\n",
    "plt.ylabel(\"Eixo y\")\n",
    "plt.grid()\n",
    "plt.show()"
   ]
  },
  {
   "cell_type": "markdown",
   "metadata": {},
   "source": [
    "C) y = x+2"
   ]
  },
  {
   "cell_type": "code",
   "execution_count": null,
   "metadata": {},
   "outputs": [],
   "source": [
    "def f(x): return x+2\n",
    "x = np.linspace(-10,10)\n",
    "\n",
    "plt.plot(x, f(x))\n",
    "plt.plot(x, f(x), color=\"black\")\n",
    "\n",
    "plt.title(\"Função F(X)= x + 2\")\n",
    "plt.xlabel(\"Eixo x\")\n",
    "plt.ylabel(\"Eixo y\")\n",
    "plt.grid()\n",
    "plt.show()"
   ]
  },
  {
   "cell_type": "markdown",
   "metadata": {},
   "source": [
    "D) y = -x+2"
   ]
  },
  {
   "cell_type": "code",
   "execution_count": null,
   "metadata": {},
   "outputs": [],
   "source": [
    "def f(x): return -x+2\n",
    "x = np.linspace(-5, 5)\n",
    "\n",
    "plt.plot(x, f(x))\n",
    "plt.plot(x, f(x), color=\"black\")\n",
    "\n",
    "plt.title(\"Função F(X)= - x + 2\")\n",
    "plt.xlabel(\"Eixo x\")\n",
    "plt.ylabel(\"Eixo y\")\n",
    "plt.grid()\n",
    "plt.show()"
   ]
  },
  {
   "cell_type": "markdown",
   "metadata": {},
   "source": [
    "E) y = x - 2"
   ]
  },
  {
   "cell_type": "code",
   "execution_count": null,
   "metadata": {},
   "outputs": [],
   "source": [
    "def f(x): return x-2\n",
    "x = np.linspace(-10, 10)\n",
    "\n",
    "plt.plot(x, f(x))\n",
    "plt.plot(x, f(x), color=\"black\")\n",
    "\n",
    "plt.title(\"Função F(X)= x - 2\")\n",
    "plt.xlabel(\"Eixo x\")\n",
    "plt.ylabel(\"Eixo y\")\n",
    "plt.grid()\n",
    "plt.show()"
   ]
  },
  {
   "cell_type": "markdown",
   "metadata": {},
   "source": [
    "F) y = 2x"
   ]
  },
  {
   "cell_type": "code",
   "execution_count": null,
   "metadata": {},
   "outputs": [],
   "source": [
    "def f(x): return 2*x\n",
    "x = np.linspace(-6,6)\n",
    "\n",
    "plt.plot(x, f(x))\n",
    "plt.plot(x, f(x), color=\"black\")\n",
    "\n",
    "plt.title(\"Função F(X)= x2x\")\n",
    "plt.xlabel(\"Eixo x\")\n",
    "plt.ylabel(\"Eixo y\")\n",
    "plt.grid()\n",
    "plt.show()"
   ]
  },
  {
   "cell_type": "markdown",
   "metadata": {},
   "source": [
    "G) y = -2x"
   ]
  },
  {
   "cell_type": "code",
   "execution_count": null,
   "metadata": {},
   "outputs": [],
   "source": [
    "def f(x): return -2*x\n",
    "x = np.linspace(-6,6)\n",
    "\n",
    "plt.plot(x, f(x))\n",
    "plt.plot(x, f(x), color=\"black\")\n",
    "\n",
    "plt.title(\"Função F(X)= -2x\")\n",
    "plt.xlabel(\"Eixo x\")\n",
    "plt.ylabel(\"Eixo y\")\n",
    "plt.grid()\n",
    "plt.show()"
   ]
  },
  {
   "cell_type": "markdown",
   "metadata": {},
   "source": [
    "H) y = 2x+2"
   ]
  },
  {
   "cell_type": "code",
   "execution_count": null,
   "metadata": {},
   "outputs": [],
   "source": [
    "def f(x): return 2*x+2\n",
    "x = np.linspace(-6,6)\n",
    "\n",
    "plt.plot(x, f(x))\n",
    "plt.plot(x, f(x), color=\"black\")\n",
    "\n",
    "plt.title(\"Função F(X)= 2x + 2\")\n",
    "plt.xlabel(\"Eixo x\")\n",
    "plt.ylabel(\"Eixo y\")\n",
    "\n",
    "plt.grid()\n",
    "plt.show()"
   ]
  },
  {
   "cell_type": "markdown",
   "metadata": {},
   "source": [
    "i) y = -2x - 2"
   ]
  },
  {
   "cell_type": "code",
   "execution_count": null,
   "metadata": {},
   "outputs": [],
   "source": [
    "def f(x): return -2*x - 2\n",
    "x = np.linspace(-5,5)\n",
    "\n",
    "plt.plot(x, f(x))\n",
    "plt.plot(x, f(x), color=\"black\")\n",
    "\n",
    "plt.title(\"Função F(X)= -2x - 2\")\n",
    "plt.xlabel(\"Eixo x\")\n",
    "plt.ylabel(\"Eixo y\")\n",
    "\n",
    "plt.grid()\n",
    "plt.show()"
   ]
  },
  {
   "cell_type": "markdown",
   "metadata": {},
   "source": [
    "J) y = -3x + 2"
   ]
  },
  {
   "cell_type": "code",
   "execution_count": null,
   "metadata": {},
   "outputs": [],
   "source": [
    "def f(x): return -3*x + 2\n",
    "x = np.linspace(-5,5)\n",
    "\n",
    "plt.plot(x, f(x))\n",
    "plt.plot(x, f(x), color=\"black\")\n",
    "\n",
    "plt.title(\"Função F(X)= -3x + 2\")\n",
    "plt.xlabel(\"Eixo x\")\n",
    "plt.ylabel(\"Eixo y\")\n",
    "\n",
    "plt.grid()\n",
    "plt.show()"
   ]
  },
  {
   "cell_type": "markdown",
   "metadata": {},
   "source": [
    "k) y = x2"
   ]
  },
  {
   "cell_type": "code",
   "execution_count": null,
   "metadata": {},
   "outputs": [],
   "source": [
    "def f(x): return x**2\n",
    "x = np.linspace(-6,6)\n",
    "\n",
    "plt.plot(x, f(x))\n",
    "plt.plot(x, f(x), color=\"black\")\n",
    "\n",
    "plt.title(\"Função F(X)= x2\")\n",
    "plt.xlabel(\"Eixo x\")\n",
    "plt.ylabel(\"Eixo y\")\n",
    "plt.grid()\n",
    "plt.show()"
   ]
  },
  {
   "cell_type": "markdown",
   "metadata": {},
   "source": [
    "l) y= -x2"
   ]
  },
  {
   "cell_type": "code",
   "execution_count": null,
   "metadata": {},
   "outputs": [],
   "source": [
    "def f(x): return -x**2\n",
    "x = np.linspace(-9,9)\n",
    "\n",
    "plt.plot(x, f(x))\n",
    "plt.plot(x, f(x), color=\"black\")\n",
    "\n",
    "plt.title(\"Função F(X)= -x2\")\n",
    "plt.xlabel(\"Eixo x\")\n",
    "plt.ylabel(\"Eixo y\")\n",
    "plt.grid()\n",
    "plt.show()"
   ]
  },
  {
   "cell_type": "markdown",
   "metadata": {},
   "source": [
    "m) y = -x2"
   ]
  },
  {
   "cell_type": "code",
   "execution_count": null,
   "metadata": {},
   "outputs": [],
   "source": [
    "def f(x): return -x*2\n",
    "x = np.linspace(-8, 8)\n",
    "\n",
    "plt.plot(x, f(x))\n",
    "plt.plot(x, f(x), color=\"black\")\n",
    "\n",
    "plt.title(\"Função F(X)= -x2\")\n",
    "plt.xlabel(\"Eixo x\")\n",
    "plt.ylabel(\"Eixo y\")\n",
    "plt.grid()\n",
    "plt.show()"
   ]
  },
  {
   "cell_type": "markdown",
   "metadata": {},
   "source": [
    "n) y = x2 + 1"
   ]
  },
  {
   "cell_type": "code",
   "execution_count": null,
   "metadata": {},
   "outputs": [],
   "source": [
    "def f(x): return x*2 + 1\n",
    "x = np.linspace(-8,8)\n",
    "\n",
    "plt.plot(x, f(x))\n",
    "plt.plot(x, f(x), color=\"black\")\n",
    "\n",
    "plt.title(\"Função F(X)= x*2 + 1\")\n",
    "plt.xlabel(\"Eixo x\")\n",
    "plt.ylabel(\"Eixo y\")\n",
    "plt.grid()\n",
    "plt.show()"
   ]
  },
  {
   "cell_type": "markdown",
   "metadata": {},
   "source": [
    "o) x2 - 1"
   ]
  },
  {
   "cell_type": "code",
   "execution_count": null,
   "metadata": {},
   "outputs": [],
   "source": [
    "def f(x): return x**2-1\n",
    "x = np.linspace(-9, 9)\n",
    "\n",
    "plt.plot(x, f(x))\n",
    "plt.plot(x, f(x), color=\"black\")\n",
    "\n",
    "plt.title(\"Função F(X)= x*2 - 1\")\n",
    "plt.xlabel(\"Eixo x\")\n",
    "plt.ylabel(\"Eixo y\")\n",
    "plt.grid()\n",
    "plt.show()"
   ]
  },
  {
   "cell_type": "markdown",
   "metadata": {},
   "source": [
    "p) y = x2 + 3x - 2"
   ]
  },
  {
   "cell_type": "code",
   "execution_count": null,
   "metadata": {},
   "outputs": [],
   "source": [
    "def f(x): return x**2 + 3*x - 2\n",
    "x = np.linspace(-8,8)\n",
    "\n",
    "plt.plot(x, f(x))\n",
    "plt.plot(x, f(x), color=\"black\")\n",
    "\n",
    "plt.title(\"Função F(X)= x2 + 3x - 2\")\n",
    "plt.xlabel(\"Eixo x\")\n",
    "plt.ylabel(\"Eixo y\")\n",
    "plt.grid()\n",
    "plt.show()"
   ]
  },
  {
   "cell_type": "markdown",
   "metadata": {},
   "source": [
    "q) y = -x2 - 3x - 2"
   ]
  },
  {
   "cell_type": "code",
   "execution_count": null,
   "metadata": {},
   "outputs": [],
   "source": [
    "def f(x): return -x**2 - 3* - 2\n",
    "x = np.linspace(-2.5,2.5)\n",
    "\n",
    "plt.plot(x, f(x))\n",
    "plt.plot(x, f(x), color=\"black\")\n",
    "\n",
    "plt.title(\"Função F(X)= -x2 - 3x - 2\")\n",
    "plt.xlabel(\"Eixo x\")\n",
    "plt.ylabel(\"Eixo y\")\n",
    "plt.grid()\n",
    "plt.show()"
   ]
  },
  {
   "cell_type": "markdown",
   "metadata": {},
   "source": [
    "r) y = x3"
   ]
  },
  {
   "cell_type": "code",
   "execution_count": null,
   "metadata": {},
   "outputs": [],
   "source": [
    "def f(x): return x**3\n",
    "x = np.linspace(-8,8)\n",
    "\n",
    "plt.plot(x, f(x))\n",
    "plt.plot(x, f(x), color=\"black\")\n",
    "\n",
    "plt.title(\"Função F(X)= x3\")\n",
    "plt.xlabel(\"Eixo x\")\n",
    "plt.ylabel(\"Eixo y\")\n",
    "plt.grid()\n",
    "plt.show()"
   ]
  },
  {
   "cell_type": "markdown",
   "metadata": {},
   "source": [
    "s) y = -x3"
   ]
  },
  {
   "cell_type": "code",
   "execution_count": null,
   "metadata": {},
   "outputs": [],
   "source": [
    "def f(x): return -x**3\n",
    "x = np.linspace(-8,8)\n",
    "\n",
    "plt.plot(x, f(x))\n",
    "plt.plot(x, f(x), color=\"black\")\n",
    "\n",
    "plt.title(\"Função F(X)= -x3\")\n",
    "plt.xlabel(\"Eixo x\")\n",
    "plt.ylabel(\"Eixo y\")\n",
    "plt.grid()\n",
    "plt.show()"
   ]
  },
  {
   "cell_type": "markdown",
   "metadata": {},
   "source": [
    "t) y = ln(x)"
   ]
  },
  {
   "cell_type": "code",
   "execution_count": null,
   "metadata": {},
   "outputs": [],
   "source": [
    "def f(x): return np.log(x)\n",
    "x = np.linspace(-8, 8)\n",
    "\n",
    "plt.plot(x, f(x))\n",
    "plt.plot(x, f(x), color=\"black\")\n",
    "\n",
    "plt.title(\"F(x) ln x\")\n",
    "plt.xlabel(\"Eixo x\")\n",
    "plt.ylabel(\"Eixo y\")\n",
    "plt.grid()\n",
    "plt.show()"
   ]
  },
  {
   "cell_type": "markdown",
   "metadata": {},
   "source": [
    "u) y = cosec(x)"
   ]
  },
  {
   "cell_type": "code",
   "execution_count": null,
   "metadata": {},
   "outputs": [],
   "source": [
    "def f(x): return np.cosh(x)\n",
    "x = np.linspace(-8,8)\n",
    "\n",
    "plt.plot(x, f(x))\n",
    "plt.plot(x, f(x), color=\"black\")\n",
    "\n",
    "plt.title(\"Função F(X)= cosec(x)\")\n",
    "plt.xlabel(\"Eixo x\")\n",
    "plt.ylabel(\"Eixo y\")\n",
    "plt.grid()\n",
    "plt.show()"
   ]
  },
  {
   "cell_type": "markdown",
   "metadata": {},
   "source": [
    "v) y = ex"
   ]
  },
  {
   "cell_type": "code",
   "execution_count": null,
   "metadata": {},
   "outputs": [],
   "source": [
    "def f(x): return np.e**x\n",
    "x = np.linspace(-8,8)\n",
    "\n",
    "plt.plot(x, f(x))\n",
    "plt.plot(x, f(x), color=\"black\")\n",
    "\n",
    "plt.title(\"Função F(X)= ex\")\n",
    "plt.xlabel(\"Eixo x\")\n",
    "plt.ylabel(\"Eixo y\")\n",
    "plt.grid()\n",
    "plt.show()"
   ]
  },
  {
   "cell_type": "markdown",
   "metadata": {},
   "source": [
    "w) y = sec(x)"
   ]
  },
  {
   "cell_type": "code",
   "execution_count": null,
   "metadata": {},
   "outputs": [],
   "source": [
    "def f(x): return np.sinh(x)\n",
    "x = np.linspace(-2.5,2.5)\n",
    "\n",
    "plt.plot(x, f(x))\n",
    "plt.plot(x, f(x), color=\"black\")\n",
    "\n",
    "plt.title(\"Função F(X)= sec(x)\")\n",
    "plt.xlabel(\"Eixo x\")\n",
    "plt.ylabel(\"Eixo y\")\n",
    "plt.grid()\n",
    "plt.show()"
   ]
  },
  {
   "cell_type": "markdown",
   "metadata": {},
   "source": [
    "x) y = tg(x)"
   ]
  },
  {
   "cell_type": "code",
   "execution_count": null,
   "metadata": {},
   "outputs": [],
   "source": [
    "def f(x): return np.tan(x)\n",
    "x = np.linspace(-8, 8)\n",
    "\n",
    "plt.plot(x, f(x))\n",
    "plt.plot(x, f(x), color=\"black\")\n",
    "\n",
    "plt.title(\"Função F(X)= tg(x)\")\n",
    "plt.xlabel(\"Eixo x\")\n",
    "plt.ylabel(\"Eixo y\")\n",
    "plt.grid()\n",
    "plt.show()"
   ]
  },
  {
   "cell_type": "markdown",
   "metadata": {},
   "source": [
    "y) y = cotg (x)"
   ]
  },
  {
   "cell_type": "code",
   "execution_count": null,
   "metadata": {},
   "outputs": [],
   "source": [
    "def f(x): return np.tanh(x)\n",
    "x = np.linspace(-2.5,2.5)\n",
    "\n",
    "plt.plot(x, f(x))\n",
    "plt.plot(x, f(x), color=\"black\")\n",
    "\n",
    "plt.title(\"Função F(X)= cotg(x)\")\n",
    "plt.xlabel(\"Eixo x\")\n",
    "plt.ylabel(\"Eixo y\")\n",
    "plt.grid()\n",
    "plt.show()"
   ]
  },
  {
   "cell_type": "markdown",
   "metadata": {},
   "source": [
    "z) y = e-x"
   ]
  },
  {
   "cell_type": "code",
   "execution_count": null,
   "metadata": {},
   "outputs": [],
   "source": [
    "def f(x): return np.e**-x\n",
    "x = np.linspace(-8, 8)\n",
    "\n",
    "plt.plot(x, f(x))\n",
    "plt.plot(x, f(x), color=\"black\")\n",
    "\n",
    "plt.title(\"Função F(X)= e-x\")\n",
    "plt.xlabel(\"Eixo x\")\n",
    "plt.ylabel(\"Eixo y\")\n",
    "plt.grid()\n",
    "plt.show()"
   ]
  },
  {
   "cell_type": "code",
   "execution_count": null,
   "metadata": {},
   "outputs": [],
   "source": []
  }
 ],
 "metadata": {
  "kernelspec": {
   "display_name": "Python 3",
   "language": "python",
   "name": "python3"
  },
  "language_info": {
   "codemirror_mode": {
    "name": "ipython",
    "version": 3
   },
   "file_extension": ".py",
   "mimetype": "text/x-python",
   "name": "python",
   "nbconvert_exporter": "python",
   "pygments_lexer": "ipython3",
   "version": "3.7.4"
  }
 },
 "nbformat": 4,
 "nbformat_minor": 2
}
